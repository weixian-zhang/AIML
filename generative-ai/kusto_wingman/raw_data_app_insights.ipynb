{
 "cells": [
  {
   "cell_type": "code",
   "execution_count": 14,
   "id": "bf17a084-1f61-44ee-8033-c380060b0946",
   "metadata": {},
   "outputs": [],
   "source": [
    "import os\n",
    "import pathlib\n",
    "import re\n",
    "import json\n",
    "\n",
    "raw_data_path = 'raw_data/app-insights'"
   ]
  },
  {
   "cell_type": "code",
   "execution_count": null,
   "id": "0d21de99-56d3-4672-b34e-549a818e41d2",
   "metadata": {},
   "outputs": [],
   "source": []
  },
  {
   "cell_type": "code",
   "execution_count": 16,
   "id": "a6a237de-c277-47dc-9296-32e6f1518ee7",
   "metadata": {},
   "outputs": [],
   "source": [
    "qnsPattern = re.compile(\"question:.*\")\n",
    "queryPattern = re.compile('(?<=```)[^`]*(?=```)')\n",
    "type = 'appinsights'\n",
    "result = []\n",
    "\n",
    "readmeQns = []\n",
    "readmeQuery = []\n",
    "\n",
    "for root, dirs, files in os.walk(raw_data_path, topdown=False):\n",
    "    for f in files:\n",
    "        ext = pathlib.Path(f).suffix\n",
    "        if f != 'README.md':\n",
    "            file = open(os.path.join(root, f), mode='r', encoding=\"utf8\")\n",
    "            content = file.read()\n",
    "            file.close()\n",
    "            qns = re.findall(qnsPattern, content)\n",
    "            query = re.findall(queryPattern, content)\n",
    "\n",
    "            result.append({\n",
    "                'question': ''.join(qns).replace('question: ', ''),\n",
    "                'queryType': 'appinsights',\n",
    "                'query': ''.join(query)\n",
    "            })\n",
    "\n",
    "        elif f == 'README.md':\n",
    "            qnsPattern = re.compile(\"(?<=###)[^`]*(?=\\n)*\")\n",
    "            queryPattern = re.compile('(?<=```\\n)[^```]*(?=```)')\n",
    "            \n",
    "            file = open(os.path.join(root, f), mode='r', encoding=\"utf8\")\n",
    "            content = file.read()\n",
    "            file.close()\n",
    "\n",
    "            questions = re.findall(qnsPattern, content)\n",
    "            qMatch = re.findall(queryPattern, content)\n",
    "\n",
    "            i = 0\n",
    "            while i <= len(qMatch) - 1:    \n",
    "                readmeQuery.append(qMatch[i])\n",
    "                i += 2\n",
    "\n",
    "            i = 0\n",
    "            while i <= len(questions) - 1: \n",
    "                q = questions[i]\n",
    "                spaceIdx = q.index('. ')\n",
    "                readmeQns.append(q[spaceIdx + 2:])\n",
    "                i += 1\n",
    "            \n",
    "            for idx in range(len(questions)):\n",
    "                result.append({\n",
    "                    'question': ''.join(readmeQns[idx]),\n",
    "                    'queryType': 'appinsights',\n",
    "                    'query': ''.join(readmeQuery[idx])\n",
    "                })\n",
    "            \n",
    "            \n",
    "with open('knowledge/app_insights_knowledge.json', 'w') as f:\n",
    "    json.dump(result, f, indent=4)\n",
    "            "
   ]
  },
  {
   "cell_type": "code",
   "execution_count": null,
   "id": "3d91bb82-4197-4ecd-bd3c-d00145ff105c",
   "metadata": {},
   "outputs": [],
   "source": []
  }
 ],
 "metadata": {
  "kernelspec": {
   "display_name": "venv",
   "language": "python",
   "name": "venv"
  },
  "language_info": {
   "codemirror_mode": {
    "name": "ipython",
    "version": 3
   },
   "file_extension": ".py",
   "mimetype": "text/x-python",
   "name": "python",
   "nbconvert_exporter": "python",
   "pygments_lexer": "ipython3",
   "version": "3.11.8"
  }
 },
 "nbformat": 4,
 "nbformat_minor": 5
}
