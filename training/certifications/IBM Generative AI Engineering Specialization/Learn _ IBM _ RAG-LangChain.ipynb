{
 "cells": [
  {
   "cell_type": "markdown",
   "id": "18d2071e-a093-4297-8314-6c6aabefec50",
   "metadata": {
    "microsoft": {
     "language": "python",
     "language_group": "synapse_pyspark"
    },
    "nteract": {
     "transient": {
      "deleting": false
     }
    }
   },
   "source": [
    "- use Azure Cosmos NoSQL as Vector DB"
   ]
  },
  {
   "cell_type": "code",
   "execution_count": null,
   "id": "b70d8dc4-91d5-43a5-b550-d900b2613395",
   "metadata": {
    "microsoft": {
     "language": "python",
     "language_group": "synapse_pyspark"
    }
   },
   "outputs": [],
   "source": [
    "%pip install -U langchain_openai"
   ]
  },
  {
   "cell_type": "code",
   "execution_count": null,
   "id": "23cc743b-10a0-4de0-aa6f-69db63bb7400",
   "metadata": {
    "microsoft": {
     "language": "python",
     "language_group": "synapse_pyspark"
    }
   },
   "outputs": [],
   "source": [
    "# Welcome to your new notebook\n",
    "# Type here in the cell editor to add code!\n",
    "%pip install langchain azure-cosmos langchain_openai langchain-community pypdf azure-identity python-dotenv openai "
   ]
  },
  {
   "cell_type": "markdown",
   "id": "d9420f4b-c867-47d5-941e-c6b8d031f5cf",
   "metadata": {
    "microsoft": {
     "language": "python",
     "language_group": "synapse_pyspark"
    },
    "nteract": {
     "transient": {
      "deleting": false
     }
    }
   },
   "source": [
    "#### global vars"
   ]
  },
  {
   "cell_type": "code",
   "execution_count": null,
   "id": "b59b9477-163e-4688-a554-64343613ef69",
   "metadata": {
    "microsoft": {
     "language": "python",
     "language_group": "synapse_pyspark"
    }
   },
   "outputs": [
    {
     "data": {
      "application/vnd.livy.statement-meta+json": {
       "execution_finish_time": "2025-06-22T14:37:19.0688769Z",
       "execution_start_time": "2025-06-22T14:37:18.6279476Z",
       "livy_statement_state": "available",
       "normalized_state": "finished",
       "parent_msg_id": "f2f5e090-353b-46d0-b84b-94cba4014e1e",
       "queued_time": "2025-06-22T14:37:18.6261392Z",
       "session_id": "5cea67fe-861f-4b4f-9d5b-007f8ee605e1",
       "session_start_time": null,
       "spark_pool": null,
       "state": "finished",
       "statement_id": 43,
       "statement_ids": [
        43
       ]
      },
      "text/plain": [
       "StatementMeta(, 5cea67fe-861f-4b4f-9d5b-007f8ee605e1, 43, Finished, Available, Finished)"
      ]
     },
     "metadata": {},
     "output_type": "display_data"
    }
   ],
   "source": [
    "from dotenv import load_dotenv\n",
    "load_dotenv('/lakehouse/default/Files/.env')\n",
    "\n",
    "cosmos_endpoint = 'https://cosmos-vector-db-1.documents.azure.com'\n",
    "azure_openai_key = ''\n",
    "cosmos_key = ''"
   ]
  },
  {
   "cell_type": "markdown",
   "id": "197c7f24-3253-492a-895c-f3ae381f5c10",
   "metadata": {
    "microsoft": {
     "language": "python",
     "language_group": "synapse_pyspark"
    },
    "nteract": {
     "transient": {
      "deleting": false
     }
    }
   },
   "source": [
    "#### load and split PDF data"
   ]
  },
  {
   "cell_type": "code",
   "execution_count": 14,
   "id": "cf808922-7c64-4065-9a93-6af22b53301c",
   "metadata": {
    "microsoft": {
     "language": "python",
     "language_group": "synapse_pyspark"
    }
   },
   "outputs": [
    {
     "data": {
      "application/vnd.livy.statement-meta+json": {
       "execution_finish_time": "2025-06-22T14:06:34.6927338Z",
       "execution_start_time": "2025-06-22T14:06:24.2985174Z",
       "livy_statement_state": "available",
       "normalized_state": "finished",
       "parent_msg_id": "463b5103-149c-40b6-ae1e-62199d1ba3fb",
       "queued_time": "2025-06-22T14:06:24.2967617Z",
       "session_id": "5cea67fe-861f-4b4f-9d5b-007f8ee605e1",
       "session_start_time": null,
       "spark_pool": null,
       "state": "finished",
       "statement_id": 27,
       "statement_ids": [
        27
       ]
      },
      "text/plain": [
       "StatementMeta(, 5cea67fe-861f-4b4f-9d5b-007f8ee605e1, 27, Finished, Available, Finished)"
      ]
     },
     "metadata": {},
     "output_type": "display_data"
    },
    {
     "name": "stdout",
     "output_type": "stream",
     "text": [
      "787\n"
     ]
    }
   ],
   "source": [
    "from langchain_community.document_loaders import PyPDFLoader\n",
    "from langchain_text_splitters import RecursiveCharacterTextSplitter\n",
    "\n",
    "loader = PyPDFLoader(\"/lakehouse/default/Files/9781509302963_Microsoft Azure Essentials Fundamentals of Azure 2nd ed mobile.pdf\")\n",
    "data = loader.load()\n",
    "\n",
    "text_splitter = RecursiveCharacterTextSplitter(chunk_size=1000, chunk_overlap=150)\n",
    "\n",
    "docs = text_splitter.split_documents(data)\n",
    "\n",
    "print(len(docs))\n"
   ]
  },
  {
   "cell_type": "markdown",
   "id": "1fd1153e-c806-4f80-b0cb-14ef45b387c1",
   "metadata": {
    "microsoft": {
     "language": "python",
     "language_group": "synapse_pyspark"
    },
    "nteract": {
     "transient": {
      "deleting": false
     }
    }
   },
   "source": [
    "#### encode documents to embedding"
   ]
  },
  {
   "cell_type": "code",
   "execution_count": 6,
   "id": "82466da6-2ef7-4907-b231-9828cdbc747f",
   "metadata": {
    "microsoft": {
     "language": "python",
     "language_group": "synapse_pyspark"
    }
   },
   "outputs": [
    {
     "data": {
      "application/vnd.livy.statement-meta+json": {
       "execution_finish_time": "2025-06-22T13:59:35.6568307Z",
       "execution_start_time": "2025-06-22T13:59:33.0012564Z",
       "livy_statement_state": "available",
       "normalized_state": "finished",
       "parent_msg_id": "9545af7f-f121-4fcf-818f-5f9292e7dff7",
       "queued_time": "2025-06-22T13:58:46.810948Z",
       "session_id": "5cea67fe-861f-4b4f-9d5b-007f8ee605e1",
       "session_start_time": null,
       "spark_pool": null,
       "state": "finished",
       "statement_id": 19,
       "statement_ids": [
        19
       ]
      },
      "text/plain": [
       "StatementMeta(, 5cea67fe-861f-4b4f-9d5b-007f8ee605e1, 19, Finished, Available, Finished)"
      ]
     },
     "metadata": {},
     "output_type": "display_data"
    }
   ],
   "source": [
    "from langchain_openai import AzureOpenAIEmbeddings\n",
    "\n",
    "azopenai_embeddings = AzureOpenAIEmbeddings(\n",
    "    model=\"text-embedding-3-large\",\n",
    "    # dimensions: Optional[int] = None, # Can specify dimensions with new text-embedding-3 models\n",
    "    azure_endpoint=\"https://aihub-openai-base-model.openai.azure.com/openai/deployments/text-embedding-ada-002/embeddings?api-version=2023-05-15\", #If not provided, will read env variable AZURE_OPENAI_ENDPOINT\n",
    "    api_key=azure_openai_key, # Can provide an API key directly. If missing read env variable AZURE_OPENAI_API_KEY\n",
    "    openai_api_version='2023-05-15', # If not provided, will read env variable AZURE_OPENAI_API_VERSION\n",
    ")\n",
    "\n",
    "\n",
    "def generate_embeddings(text):\n",
    "    return azopenai_embeddings.embed_query(text)\n",
    "\n",
    "\n"
   ]
  },
  {
   "cell_type": "markdown",
   "id": "6b53fb51-bec5-4b79-a169-66f1bbd6ea9b",
   "metadata": {
    "microsoft": {
     "language": "python",
     "language_group": "synapse_pyspark"
    },
    "nteract": {
     "transient": {
      "deleting": false
     }
    }
   },
   "source": [
    "#### setup Cosmos as Vector DB"
   ]
  },
  {
   "cell_type": "code",
   "execution_count": 39,
   "id": "c150125b-c054-4a39-ad47-5a8b2666798f",
   "metadata": {
    "microsoft": {
     "language": "python",
     "language_group": "synapse_pyspark"
    }
   },
   "outputs": [
    {
     "data": {
      "application/vnd.livy.statement-meta+json": {
       "execution_finish_time": "2025-06-22T14:54:20.230635Z",
       "execution_start_time": "2025-06-22T14:54:19.818504Z",
       "livy_statement_state": "available",
       "normalized_state": "finished",
       "parent_msg_id": "2d097e3b-9b40-415d-8d57-790309175e39",
       "queued_time": "2025-06-22T14:54:19.8167363Z",
       "session_id": "5cea67fe-861f-4b4f-9d5b-007f8ee605e1",
       "session_start_time": null,
       "spark_pool": null,
       "state": "finished",
       "statement_id": 52,
       "statement_ids": [
        52
       ]
      },
      "text/plain": [
       "StatementMeta(, 5cea67fe-861f-4b4f-9d5b-007f8ee605e1, 52, Finished, Available, Finished)"
      ]
     },
     "metadata": {},
     "output_type": "display_data"
    },
    {
     "name": "stdout",
     "output_type": "stream",
     "text": [
      "Database with id 'cosmos-vector-db-1' created\n",
      "Container with id 'doc_azure_essential' created\n"
     ]
    }
   ],
   "source": [
    "# https://python.langchain.com/docs/integrations/vectorstores/azure_cosmos_db_no_sql/\n",
    "# https://github.com/microsoft/AzureDataRetrievalAugmentedGenerationSamples/blob/main/Python/CosmosDB-NoSQL-Integrations/LangChain-CosmosDBNoSQL-AzureOpenAI.ipynb\n",
    "\n",
    "from azure.identity import DefaultAzureCredential\n",
    "from azure.cosmos import CosmosClient, PartitionKey\n",
    "\n",
    "indexing_policy = {\n",
    "    \"indexingMode\": \"consistent\",\n",
    "    \"includedPaths\": [{\"path\": \"/*\"}],\n",
    "    \"excludedPaths\": [{\"path\": '/\"_etag\"/?'}],\n",
    "    \"vectorIndexes\": [{\"path\": \"/content_embedding\", \"type\": \"diskANN\"}],\n",
    "    \"fullTextIndexes\": [{\"path\": \"/text\"}],\n",
    "}\n",
    "\n",
    "vector_embedding_policy = {\n",
    "    \"vectorEmbeddings\": [\n",
    "        {\n",
    "            \"path\": \"/content_embedding\",\n",
    "            \"dataType\": \"float32\",\n",
    "            \"distanceFunction\": \"cosine\",\n",
    "            \"dimensions\": 1536,\n",
    "        }\n",
    "    ]\n",
    "}\n",
    "\n",
    "full_text_policy = {\n",
    "    \"defaultLanguage\": \"en-US\",\n",
    "    \"fullTextPaths\": [{\"path\": \"/text\", \"language\": \"en-US\"}],\n",
    "}\n",
    "\n",
    "azcred = DefaultAzureCredential()\n",
    "\n",
    "cosmos_client = CosmosClient(cosmos_endpoint,  cosmos_key)\n",
    "database_name = \"cosmos-vector-db-1\"\n",
    "container_name = \"doc_azure_essential\"\n",
    "partition_key = PartitionKey(path=\"/id\")\n",
    "cosmos_container_properties = {\"partition_key\": partition_key}\n",
    "\n",
    "# create db\n",
    "database = cosmos_client.create_database_if_not_exists(database_name)\n",
    "print('Database with id \\'{0}\\' created'.format(database_name))\n",
    "\n",
    "# container = database.create_container_if_not_exists(\n",
    "#     id=container_name,\n",
    "#     partition_key=PartitionKey(path=\"/id\"),\n",
    "#     offer_throughput=400,\n",
    "#     indexing_policy=indexing_policy,\n",
    "#     vector_embedding_policy=vector_embedding_policy   ,\n",
    "#     full_text_policy=full_text_policy\n",
    "# )\n",
    "print('Container with id \\'{0}\\' created'.format(container_name))\n",
    "\n",
    "\n",
    "# content\n",
    "# content_embedding"
   ]
  },
  {
   "cell_type": "code",
   "execution_count": 8,
   "id": "f3a9539e-6f5b-4667-89c1-072231e29d65",
   "metadata": {
    "microsoft": {
     "language": "python",
     "language_group": "synapse_pyspark"
    }
   },
   "outputs": [
    {
     "data": {
      "application/vnd.livy.statement-meta+json": {
       "execution_finish_time": "2025-06-22T13:59:37.1199782Z",
       "execution_start_time": "2025-06-22T13:59:36.6852122Z",
       "livy_statement_state": "available",
       "normalized_state": "finished",
       "parent_msg_id": "555e46cc-46fe-4868-805e-1aa4286e6323",
       "queued_time": "2025-06-22T13:58:47.320645Z",
       "session_id": "5cea67fe-861f-4b4f-9d5b-007f8ee605e1",
       "session_start_time": null,
       "spark_pool": null,
       "state": "finished",
       "statement_id": 21,
       "statement_ids": [
        21
       ]
      },
      "text/plain": [
       "StatementMeta(, 5cea67fe-861f-4b4f-9d5b-007f8ee605e1, 21, Finished, Available, Finished)"
      ]
     },
     "metadata": {},
     "output_type": "display_data"
    }
   ],
   "source": [
    "# docs_to_load = []\n",
    "\n",
    "# for idx, doc in enumerate(docs):\n",
    "#     embedding = generate_embeddings(doc.page_content)\n",
    "#     docs_to_load.append({\n",
    "#         # 'id': idx,\n",
    "#         'text': doc.page_content,\n",
    "#         'embedding': embedding,\n",
    "#         'page': doc.metadata['page'],\n",
    "#         'total_pages': doc.metadata['total_pages'],\n",
    "#         'title': doc.metadata['title']\n",
    "#     })\n",
    "\n",
    "# print(docs_to_load[0])\n"
   ]
  },
  {
   "cell_type": "markdown",
   "id": "f1a6ea5b-143a-486c-8d19-53fdcadcf16e",
   "metadata": {
    "microsoft": {
     "language": "python",
     "language_group": "synapse_pyspark"
    },
    "nteract": {
     "transient": {
      "deleting": false
     }
    }
   },
   "source": [
    "#### upsert docs to Cosmos"
   ]
  },
  {
   "cell_type": "code",
   "execution_count": 28,
   "id": "c410e28a-0e7e-4fe2-bcc8-1b3cb15d3e4d",
   "metadata": {
    "microsoft": {
     "language": "python",
     "language_group": "synapse_pyspark"
    }
   },
   "outputs": [
    {
     "data": {
      "application/vnd.livy.statement-meta+json": {
       "execution_finish_time": "2025-06-22T14:29:51.5836936Z",
       "execution_start_time": "2025-06-22T14:29:51.2143434Z",
       "livy_statement_state": "available",
       "normalized_state": "finished",
       "parent_msg_id": "8cd7a045-02c0-48bd-888f-e8594f648048",
       "queued_time": "2025-06-22T14:29:51.2125168Z",
       "session_id": "5cea67fe-861f-4b4f-9d5b-007f8ee605e1",
       "session_start_time": null,
       "spark_pool": null,
       "state": "finished",
       "statement_id": 41,
       "statement_ids": [
        41
       ]
      },
      "text/plain": [
       "StatementMeta(, 5cea67fe-861f-4b4f-9d5b-007f8ee605e1, 41, Finished, Available, Finished)"
      ]
     },
     "metadata": {},
     "output_type": "display_data"
    }
   ],
   "source": [
    "from langchain_community.vectorstores.azure_cosmos_db_no_sql import (\n",
    "    AzureCosmosDBNoSqlVectorSearch\n",
    ")\n",
    "\n",
    "# typical way to let langchain insert the documents in Cosmos, but this way do not allw \n",
    "\n",
    "# has existing embedding\n",
    "vector_store = AzureCosmosDBNoSqlVectorSearch(\n",
    "    embedding=azopenai_embeddings,\n",
    "    cosmos_client=cosmos_client,\n",
    "    database_name=database_name,\n",
    "    container_name=container_name,\n",
    "    vector_embedding_policy=vector_embedding_policy,\n",
    "    indexing_policy=indexing_policy,\n",
    "    full_text_policy=full_text_policy,\n",
    "    cosmos_database_properties={},\n",
    "    cosmos_container_properties=cosmos_container_properties,\n",
    "    create_container=False,\n",
    ")\n",
    "\n",
    "# insert docs into Cosmos Vector DB\n",
    "# vector_store = AzureCosmosDBNoSqlVectorSearch.from_documents(\n",
    "#     documents=docs,\n",
    "#     embedding=azopenai_embeddings,\n",
    "#     cosmos_client=cosmos_client,\n",
    "#     database_name=database_name,\n",
    "#     container_name=container_name,\n",
    "#     vector_embedding_policy=vector_embedding_policy,\n",
    "#     indexing_policy=indexing_policy,\n",
    "#     full_text_policy=full_text_policy,\n",
    "#     cosmos_database_properties={},\n",
    "#     cosmos_container_properties=cosmos_container_properties,\n",
    "#     create_container=False,\n",
    "# )\n"
   ]
  },
  {
   "cell_type": "code",
   "execution_count": 24,
   "id": "df644ecd-d174-4486-93f8-d7def714fc85",
   "metadata": {
    "microsoft": {
     "language": "python",
     "language_group": "synapse_pyspark"
    }
   },
   "outputs": [
    {
     "data": {
      "application/vnd.livy.statement-meta+json": {
       "execution_finish_time": "2025-06-22T14:28:10.850924Z",
       "execution_start_time": "2025-06-22T14:28:09.0884557Z",
       "livy_statement_state": "available",
       "normalized_state": "finished",
       "parent_msg_id": "fc294257-db43-4931-ab1c-76b8a0e21053",
       "queued_time": "2025-06-22T14:28:09.0865808Z",
       "session_id": "5cea67fe-861f-4b4f-9d5b-007f8ee605e1",
       "session_start_time": null,
       "spark_pool": null,
       "state": "finished",
       "statement_id": 37,
       "statement_ids": [
        37
       ]
      },
      "text/plain": [
       "StatementMeta(, 5cea67fe-861f-4b4f-9d5b-007f8ee605e1, 37, Finished, Available, Finished)"
      ]
     },
     "metadata": {},
     "output_type": "display_data"
    },
    {
     "data": {
      "text/plain": [
       "''"
      ]
     },
     "execution_count": 70,
     "metadata": {},
     "output_type": "execute_result"
    }
   ],
   "source": [
    "\n",
    "\n",
    "results = container.query_items(\n",
    "        query= '''\n",
    "        SELECT TOP @num_results c.text, VectorDistance(c.content_embedding, @embedding) as SimilarityScore \n",
    "        FROM doc_azure_essential as c\n",
    "        WHERE VectorDistance(c.content_embedding,@embedding) > @similarity_score\n",
    "        ORDER BY VectorDistance(c.content_embedding,@embedding)\n",
    "        ''',\n",
    "        parameters=[\n",
    "            {\"name\": \"@embedding\", \"value\": generate_embeddings('who is the author')},\n",
    "            {\"name\": \"@num_results\", \"value\": 5},\n",
    "            {\"name\": \"@similarity_score\", \"value\": 0.5}\n",
    "        ],\n",
    "        enable_cross_partition_query=True, populate_query_metrics=True)\n",
    "results = list(results)\n",
    "\n",
    "context = '\\n\\n'.join([x['content'] for x in results])\n",
    "\n",
    "context"
   ]
  },
  {
   "cell_type": "code",
   "execution_count": null,
   "id": "c676503e-76f6-4e5d-bc41-eb71c23c48d7",
   "metadata": {
    "microsoft": {
     "language": "python",
     "language_group": "synapse_pyspark"
    }
   },
   "outputs": [],
   "source": [
    "try:\n",
    "    query = \"who is the author of the Fundamentals of Azure\"\n",
    "\n",
    "    result = vector_store.similarity_search(query)\n",
    "\n",
    "    print(result)\n",
    "except ValueError as e:\n",
    "    print(e.message)"
   ]
  },
  {
   "cell_type": "code",
   "execution_count": 45,
   "id": "d6f12107-0521-40d5-b8c5-bb67249fd2d4",
   "metadata": {
    "microsoft": {
     "language": "python",
     "language_group": "synapse_pyspark"
    }
   },
   "outputs": [
    {
     "data": {
      "application/vnd.livy.statement-meta+json": {
       "execution_finish_time": "2025-06-22T15:00:23.0642686Z",
       "execution_start_time": "2025-06-22T15:00:22.0762715Z",
       "livy_statement_state": "available",
       "normalized_state": "finished",
       "parent_msg_id": "60449a35-c764-4490-8f04-c467154fd0cc",
       "queued_time": "2025-06-22T15:00:22.074523Z",
       "session_id": "5cea67fe-861f-4b4f-9d5b-007f8ee605e1",
       "session_start_time": null,
       "spark_pool": null,
       "state": "finished",
       "statement_id": 58,
       "statement_ids": [
        58
       ]
      },
      "text/plain": [
       "StatementMeta(, 5cea67fe-861f-4b4f-9d5b-007f8ee605e1, 58, Finished, Available, Finished)"
      ]
     },
     "metadata": {},
     "output_type": "display_data"
    }
   ],
   "source": [
    "from langchain_community.chat_models import AzureChatOpenAI\n",
    "from langchain.chains import RetrievalQA,  ConversationalRetrievalChain\n",
    "from langchain.memory import ConversationBufferMemory\n",
    "from langchain.prompts import PromptTemplate\n",
    "from langchain_community.chat_message_histories import CosmosDBChatMessageHistory\n",
    "\n",
    "prompt_template = \"\"\"\n",
    "You are an upbeat AI assistant who is excited to help answer questions. \n",
    "You can use this context\n",
    "\n",
    "{context},\n",
    "\n",
    "or this chat history\n",
    "\n",
    "{chat_history},\n",
    "\n",
    "to answer this question. \n",
    "\n",
    "Question: {question}\n",
    "If you don't know the answer, just say that you don't know. Don't try to make up an answer.\n",
    "\"\"\"\n",
    "chatbot_prompt = PromptTemplate(\n",
    "    template = prompt_template, input_variables = [\"context\", \"question\", \"chat_history\"])\n",
    "\n",
    "\n",
    "llm = AzureChatOpenAI(\n",
    "        azure_endpoint = 'https://aihub-openai-base-model.openai.azure.com/',\n",
    "        api_key = azure_openai_key,\n",
    "        api_version = '2024-12-01-preview',\n",
    "        azure_deployment = 'gpt-4.1', \n",
    "        cache = False,\n",
    "        n = 1)\n",
    "\n",
    "retriever = vector_store.as_retriever(search_type = \"similarity\",search_kwargs = {\"k\": 5, 'score_threshold': 0.2})\n",
    "\n",
    "sem_qa = ConversationalRetrievalChain.from_llm(\n",
    "        llm = llm,\n",
    "        chain_type = \"stuff\",\n",
    "        retriever = retriever,\n",
    "        return_source_documents = True,\n",
    "        combine_docs_chain_kwargs = {\"prompt\": chatbot_prompt}\n",
    ")\n",
    "\n",
    "chatbot_chain_retriever=llm\n",
    "chatbot_chain_llm=retriever\n",
    "chatbot_chain=sem_qa\n",
    "\n",
    "\n",
    "# Clearing Semantic Cache before every testing cycle\n",
    "# database.delete_container(\"abstracts_history\")\n",
    "\n",
    "cosmos_message_history = CosmosDBChatMessageHistory(\n",
    "    session_id = \"test_session\",\n",
    "    cosmos_endpoint = cosmos_endpoint,\n",
    "    cosmos_database = database_name,\n",
    "    cosmos_container = \"abstracts_history\",\n",
    "    credential = cosmos_key,\n",
    "    user_id = \"ak\")\n",
    "cosmos_message_history.prepare_cosmos()\n",
    "\n",
    "conversational_memory = ConversationBufferMemory(\n",
    "    chat_memory=cosmos_message_history,\n",
    "    memory_key='chat_history',\n",
    "    return_messages=True)"
   ]
  },
  {
   "cell_type": "code",
   "execution_count": 46,
   "id": "363cb231-2242-4f50-9d99-1c403797c9ed",
   "metadata": {
    "microsoft": {
     "language": "python",
     "language_group": "synapse_pyspark"
    }
   },
   "outputs": [
    {
     "data": {
      "application/vnd.livy.statement-meta+json": {
       "execution_finish_time": "2025-06-22T15:00:29.1575395Z",
       "execution_start_time": "2025-06-22T15:00:27.435321Z",
       "livy_statement_state": "available",
       "normalized_state": "finished",
       "parent_msg_id": "2c00bbdd-98b0-42b7-b172-e2610d18ebc4",
       "queued_time": "2025-06-22T15:00:27.4336115Z",
       "session_id": "5cea67fe-861f-4b4f-9d5b-007f8ee605e1",
       "session_start_time": null,
       "spark_pool": null,
       "state": "finished",
       "statement_id": 59,
       "statement_ids": [
        59
       ]
      },
      "text/plain": [
       "StatementMeta(, 5cea67fe-861f-4b4f-9d5b-007f8ee605e1, 59, Finished, Available, Finished)"
      ]
     },
     "metadata": {},
     "output_type": "display_data"
    },
    {
     "data": {
      "text/plain": [
       "AIMessage(content=\"J'adore la programmation.\", additional_kwargs={}, response_metadata={'token_usage': {'completion_tokens': 6, 'prompt_tokens': 31, 'total_tokens': 37, 'completion_tokens_details': {'accepted_prediction_tokens': 0, 'audio_tokens': 0, 'reasoning_tokens': 0, 'rejected_prediction_tokens': 0}, 'prompt_tokens_details': {'audio_tokens': 0, 'cached_tokens': 0}}, 'model_name': 'gpt-4.1-2025-04-14', 'system_fingerprint': 'fp_07e970ab25', 'finish_reason': 'stop', 'logprobs': None}, id='run--a1db190d-e9e0-4f91-bdb7-7d5a9e0ea491-0')"
      ]
     },
     "execution_count": 136,
     "metadata": {},
     "output_type": "execute_result"
    }
   ],
   "source": [
    "messages = [\n",
    "    (\n",
    "        \"system\",\n",
    "        \"You are a helpful assistant that translates English to French. Translate the user sentence.\",\n",
    "    ),\n",
    "    (\"human\", \"I love programming.\"),\n",
    "]\n",
    "ai_msg = llm.invoke(messages)\n",
    "ai_msg"
   ]
  },
  {
   "cell_type": "code",
   "execution_count": 51,
   "id": "3ddaed28-1c7a-43cd-a9ce-12f6fa50be54",
   "metadata": {
    "microsoft": {
     "language": "python",
     "language_group": "synapse_pyspark"
    }
   },
   "outputs": [
    {
     "data": {
      "application/vnd.livy.statement-meta+json": {
       "execution_finish_time": "2025-06-22T15:13:35.4307874Z",
       "execution_start_time": "2025-06-22T15:13:30.3839908Z",
       "livy_statement_state": "available",
       "normalized_state": "finished",
       "parent_msg_id": "ffa0ee2b-e5bc-4b85-9757-ceb8bb9b78ad",
       "queued_time": "2025-06-22T15:13:30.3823469Z",
       "session_id": "5cea67fe-861f-4b4f-9d5b-007f8ee605e1",
       "session_start_time": null,
       "spark_pool": null,
       "state": "finished",
       "statement_id": 64,
       "statement_ids": [
        64
       ]
      },
      "text/plain": [
       "StatementMeta(, 5cea67fe-861f-4b4f-9d5b-007f8ee605e1, 64, Finished, Available, Finished)"
      ]
     },
     "metadata": {},
     "output_type": "display_data"
    },
    {
     "name": "stdout",
     "output_type": "stream",
     "text": [
      "Azure fundamental refers to the core concepts and basic services of Microsoft Azure—the cloud computing platform from Microsoft. These fundamentals include the essential features and services that most Azure users need to know to get started and to build solutions in the cloud.\n",
      "\n",
      "According to the context from the book Fundamentals of Azure (Second Edition), Azure fundamentals typically cover the most widely used services and concepts, such as:\n",
      "\n",
      "- Getting started with Azure and understanding what cloud computing is\n",
      "- Learning about Azure Resource Manager and Role-Based Access Control\n",
      "- Creating and managing Virtual Machines (VMs) and virtual networks\n",
      "- Setting up websites and storage accounts\n",
      "- Basic networking, security, and management tools\n",
      "\n",
      "The book focuses on these key services and features because they are considered fundamental by the authors, based on many years of real-world Azure projects. While Azure offers a wide range of services, the fundamentals are those that provide the foundation for most solutions and are relevant to a broad range of users.\n",
      "\n",
      "In summary, Azure fundamental is all about the basic knowledge and skills you need to start using Azure effectively!\n"
     ]
    }
   ],
   "source": [
    "response = chatbot_chain.invoke({\"question\": 'what is Azure fundamental', \"chat_history\":conversational_memory.buffer_as_messages[-6:]},temperature=0.2)\n",
    "\n",
    "print(response['answer'])"
   ]
  },
  {
   "cell_type": "code",
   "execution_count": null,
   "id": "04e571cb-d0fe-4c47-858b-84e33f88ebe9",
   "metadata": {
    "microsoft": {
     "language": "python",
     "language_group": "synapse_pyspark"
    }
   },
   "outputs": [],
   "source": [
    "# response = chatbot_chain.invoke({\"question\": user_message, \"chat_history\":conversational_memory.buffer_as_messages[-6:]},temperature=0.2)\n",
    "\n",
    "# # Append user message and response to chat history\n",
    "# hist.append([\"User: \"+user_message, \"Chatbot: \" + response['answer']])\n",
    "\n",
    "# cosmos_message_history.add_user_message(user_message)\n",
    "\n",
    "# cosmos_message_history.add_ai_message(response['answer'])"
   ]
  }
 ],
 "metadata": {
  "dependencies": {
   "lakehouse": {
    "default_lakehouse": "7244bfba-c08e-49b4-988b-4bee81fd6006",
    "default_lakehouse_name": "aiml",
    "default_lakehouse_workspace_id": "fe9b02f4-85fd-48b5-95bb-0966dadfd080",
    "known_lakehouses": [
     {
      "id": "7244bfba-c08e-49b4-988b-4bee81fd6006"
     }
    ]
   }
  },
  "kernel_info": {
   "name": "synapse_pyspark"
  },
  "kernelspec": {
   "display_name": "synapse_pyspark",
   "name": "synapse_pyspark"
  },
  "language_info": {
   "name": "python"
  },
  "microsoft": {
   "language": "python",
   "language_group": "synapse_pyspark",
   "ms_spell_check": {
    "ms_spell_check_language": "en"
   }
  },
  "nteract": {
   "version": "nteract-front-end@1.0.0"
  },
  "spark_compute": {
   "compute_id": "/trident/default",
   "session_options": {
    "conf": {
     "spark.synapse.nbs.session.timeout": "1200000"
    }
   }
  }
 },
 "nbformat": 4,
 "nbformat_minor": 5
}
